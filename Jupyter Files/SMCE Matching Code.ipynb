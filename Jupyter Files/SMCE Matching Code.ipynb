{
 "cells": [
  {
   "cell_type": "code",
   "execution_count": 1,
   "metadata": {},
   "outputs": [
    {
     "name": "stderr",
     "output_type": "stream",
     "text": [
      "C:\\Users\\joyse\\anaconda3\\lib\\site-packages\\pandas\\core\\computation\\expressions.py:20: UserWarning: Pandas requires version '2.7.3' or newer of 'numexpr' (version '2.7.1' currently installed).\n",
      "  from pandas.core.computation.check import NUMEXPR_INSTALLED\n"
     ]
    }
   ],
   "source": [
    "#Imports\n",
    "import pandas as pd\n",
    "from rapidfuzz import fuzz\n",
    "\n",
    "#-*- coding: utf-8 -*-\n",
    "\n",
    "\n",
    "#Create a matching of schools in Chile data to reference names based on string match and region similarity\n",
    "\n",
    "# for index, row in chile_data.iterrows():\n",
    "#     entry = row['c27_est'].upper()\n",
    "#     region_s_code = region_dict[row['region_s'].upper()]\n",
    "#     best_match = max(reference_names, key=lambda x: fuzz.ratio(entry, x))\n",
    "    \n",
    "    #ATTEMPT 1\n",
    "    # if fuzz.ratio(entry, best_match) > 90: #Match for scores above 90\n",
    "    #     normalized_schools.append(best_match)\n",
    "    #     counter += 1\n",
    "    # elif fuzz.ratio(entry, best_match) > 70 and region_s_code == get_region_code_from_reference(best_match): #Match for >70 if region matches\n",
    "    #     normalized_schools.append(best_match)\n",
    "    #     counter += 1\n",
    "    \n",
    "    #ATTEMPT 2\n",
    "    # if region_s_code == get_region_code_from_reference(best_match):\n",
    "    #     normalized_schools.append(best_match)\n",
    "    #     counter += 1\n",
    "        \n",
    "    #ATTEMPT 3\n",
    "    # normalized_schools.append(best_match)\n",
    "    # counter+=1\n",
    "    \n",
    "    # else:\n",
    "    #     normalized_schools.append(None)\n",
    "\n",
    "\n",
    "\n",
    "\n",
    "#ATTEMPT 4\n",
    "# threshold=85\n",
    "# normalized_schools = []\n",
    "# for index, row in chile_data.iterrows():\n",
    "#     entry = row['c27_est'].upper()\n",
    "#     region_s_code = region_dict[row['region_s'].upper()]\n",
    "    \n",
    "#     ratios = [(name, fuzz.ratio(entry, name)) for name in reference_names] #gets all ratios\n",
    "#     ratios.sort(key=lambda x: x[1], reverse=True) #sorts in descending order\n",
    "#     best_match=ratios[0][0] #gets the highest ratio\n",
    "    \n",
    "#     filtered_ratios = [(name, ratio) for name, ratio in ratios if ratio > threshold] #gets all schools above threshold\n",
    "    \n",
    "#     if len(filtered_ratios) > 0:\n",
    "#         # Sort the filtered ratios by ratio in descending order\n",
    "#         filtered_ratios.sort(key=lambda x: x[1], reverse=True)\n",
    "#         #best_match=filtered_ratios[0][0]\n",
    "#         # Iterate through the filtered ratios\n",
    "#         for name, ratio in filtered_ratios:\n",
    "#             if get_region_code_from_reference(name) == region_s_code:\n",
    "#                 # Choose the highest match with the same region\n",
    "#                 best_match=name\n",
    "#                 break  # Exit the loop if a match is found  \n",
    "                     \n",
    "#     normalized_schools.append(best_match) \n",
    "    \n",
    "\n",
    "#ATTEMPT 5, MAKE TWO COLUMNS, ONE WITH BEST MATCH ON REGION, ONE WITH BEST MATCH AND SEE WHICH IS BETTER \n"
   ]
  },
  {
   "cell_type": "code",
   "execution_count": 2,
   "metadata": {},
   "outputs": [],
   "source": [
    "#Open the data\n",
    "chile_data = pd.read_stata(\"C:/Users/joyse/Dropbox (MIT)/Risky behavior/data/bbdd_final_Chile.dta\")\n",
    "chile_data_cleaned=pd.read_stata(\"C:/Users/joyse/Dropbox (MIT)/Risky behavior/data/bbdd_final_Chile_cleaned.dta\")\n",
    "smce_2medio = pd.read_stata(\"C:/Users/joyse/Dropbox (MIT)/Risky behavior/data/Simce 2017/Simce 2° Medio 2017/Archivos DTA (Stata)/simce2m2017_rbd_publica_final.dta\")\n",
    "smce_4basico=pd.read_stata(\"C:/Users/joyse/Dropbox (MIT)/Risky behavior/data/Simce 2017/Simce 4° Basico 2017/Archivos DTA (Stata)/simce4b2017_rbd_publica_final.dta\")\n",
    "smce_8basico=pd.read_stata(\"C:/Users/joyse/Dropbox (MIT)/Risky behavior/data/Simce 2017/Simce 8° Basico 2017/Archivos DTA (Stata)/simce8b2017_rbd_publica_final.dta\")"
   ]
  },
  {
   "cell_type": "code",
   "execution_count": 3,
   "metadata": {},
   "outputs": [],
   "source": [
    "#Isolate columns in datasets\n",
    "person_id=chile_data['idencuesta']\n",
    "schools_2medio_smce=list(smce_2medio['nom_rbd'])\n",
    "schools_2medio_smce_rbd=list(smce_2medio['rbd'])\n",
    "schools_4basico_smce=list(smce_4basico['nom_rbd'])\n",
    "schools_4basico_smce_rbd=list(smce_4basico['rbd'])\n",
    "schools_8basico_smce=list(smce_8basico['nom_rbd'])\n",
    "schools_8basico_smce_rbd=list(smce_8basico['rbd'])"
   ]
  },
  {
   "cell_type": "code",
   "execution_count": 4,
   "metadata": {},
   "outputs": [],
   "source": [
    "#Create a set of all schools in SMCE\n",
    "reference_names=schools_2medio_smce + schools_4basico_smce + schools_8basico_smce\n",
    "reference_names_rbd=schools_2medio_smce_rbd + schools_4basico_smce_rbd + schools_8basico_smce_rbd\n"
   ]
  },
  {
   "cell_type": "code",
   "execution_count": 5,
   "metadata": {},
   "outputs": [],
   "source": [
    "#Get the region codes of the reference schools\n",
    "def get_region_code_from_reference(name):\n",
    "    # Check which dataset the reference school belongs to based on the name\n",
    "    if name in schools_2medio_smce:\n",
    "        region_code = smce_2medio.loc[smce_2medio['nom_rbd'] == name, 'cod_reg_rbd'].iloc[0]\n",
    "    elif name in schools_4basico_smce:\n",
    "        region_code = smce_4basico.loc[smce_4basico['nom_rbd'] == name, 'cod_reg_rbd'].iloc[0]\n",
    "    elif name in schools_8basico_smce:\n",
    "        region_code = smce_8basico.loc[smce_8basico['nom_rbd'] == name, 'cod_reg_rbd'].iloc[0]\n",
    "    else:\n",
    "        region_code = None  # Handle the case if the reference school is not found in any dataset\n",
    "    \n",
    "    return region_code"
   ]
  },
  {
   "cell_type": "code",
   "execution_count": 6,
   "metadata": {},
   "outputs": [],
   "source": [
    "#Create a dictionary mapping region names to region codes for the Chile dataset\n",
    "region_dict={'METROPOLITANA': 13, 'BIO BIO': 8, 'VALPARAÍSO': 5}"
   ]
  },
  {
   "cell_type": "code",
   "execution_count": 7,
   "metadata": {},
   "outputs": [],
   "source": [
    "#BEST MATCH BASED ON LOCATION\n",
    "threshold=0\n",
    "normalized_schools_reg = []\n",
    "normalized_schools_reg_num = []\n",
    "for index, row in chile_data.iterrows():\n",
    "    entry = row['c27_est'].upper()\n",
    "    region_s_code = region_dict[row['region_s'].upper()]\n",
    "    \n",
    "    ratios = [(name, rbd, fuzz.ratio(entry, name)) for name, rbd in zip(reference_names, reference_names_rbd)] #gets all ratios\n",
    "    ratios.sort(key=lambda x: x[2], reverse=True) #sorts in descending order\n",
    "    \n",
    "    filtered_ratios = [(name, rbd, ratio) for name,rbd,ratio in ratios if ratio > threshold] #gets all schools above threshold\n",
    "    best_match=None\n",
    "    best_rbd=None\n",
    "    \n",
    "    # Sort the filtered ratios by ratio in descending order\n",
    "    filtered_ratios.sort(key=lambda x: x[2], reverse=True)\n",
    "    # Iterate through the filtered ratios\n",
    "    for name, rbd, ratio in filtered_ratios:\n",
    "        if get_region_code_from_reference(name) == region_s_code:\n",
    "            # Choose the highest match with the same region\n",
    "            best_match=name\n",
    "            best_rbd=rbd\n",
    "            break  # Exit the loop if a match is found  \n",
    "                     \n",
    "    normalized_schools_reg.append(best_match)\n",
    "    normalized_schools_reg_num.append(best_rbd)"
   ]
  },
  {
   "cell_type": "code",
   "execution_count": 8,
   "metadata": {},
   "outputs": [],
   "source": [
    "#BEST MATCH IN GENERAL\n",
    "normalized_schools_gen = []\n",
    "normalized_schools_gen_num=[]\n",
    "for index, row in chile_data.iterrows():\n",
    "    entry = row['c27_est'].upper()\n",
    "    region_s_code = region_dict[row['region_s'].upper()]\n",
    "    \n",
    "    ratios = [(name, rbd, fuzz.ratio(entry, name)) for name, rbd in zip(reference_names, reference_names_rbd)] #gets all ratios\n",
    "    ratios.sort(key=lambda x: x[2], reverse=True) #sorts in descending order\n",
    "    best_match=ratios[0][0] #gets the highest ratio\n",
    "    best_rbd=ratios[0][1]\n",
    "                         \n",
    "    normalized_schools_gen.append(best_match)\n",
    "    normalized_schools_gen_num.append(best_rbd)"
   ]
  },
  {
   "cell_type": "code",
   "execution_count": 10,
   "metadata": {},
   "outputs": [],
   "source": [
    "#COMPARE TWO METHODS OF MATCHING\n",
    "counter=0\n",
    "normalized_schools_match=[]\n",
    "for index, school in enumerate(normalized_schools_reg):\n",
    "    if school==normalized_schools_gen[index]:\n",
    "        normalized_schools_match.append(school)\n",
    "        counter+=1\n",
    "    else:\n",
    "        normalized_schools_match.append(None)\n"
   ]
  },
  {
   "cell_type": "code",
   "execution_count": 12,
   "metadata": {},
   "outputs": [],
   "source": [
    "#Create excel document to personally edit the schools\n",
    "chile_school_comparison2=pd.DataFrame({'idencuesta':person_id, 'c27_est': chile_data['c27_est'] , 'c27_final': chile_data_cleaned['c27_final'], 'c27_final_num': chile_data_cleaned['rbd'], 'c27_norm_final': normalized_schools_match,  'c27_norm_gen': normalized_schools_gen, 'c27_norm_gen_NUM': normalized_schools_gen_num, 'c27_norm_reg': normalized_schools_reg, 'c27_norm_reg_NUM': normalized_schools_reg_num})\n",
    "chile_school_comparison2.to_csv(\"C:/Users/joyse/Dropbox (MIT)/Risky behavior/data/chile_school_comparison2.csv\", encoding='utf-8-sig')"
   ]
  },
  {
   "cell_type": "code",
   "execution_count": 13,
   "metadata": {},
   "outputs": [
    {
     "data": {
      "text/plain": [
       "'C:\\\\Users\\\\joyse'"
      ]
     },
     "execution_count": 13,
     "metadata": {},
     "output_type": "execute_result"
    }
   ],
   "source": [
    "#Create a new dataframe to export to Stata\n",
    "chile_data_norm_school=pd.DataFrame({'idencuesta':person_id, 'c27_norm_best': normalized_schools1, 'c27_norm_reg': normalized_schools, 'c27_norm_final': normalized_schools2})\n",
    "chile_data_norm_school.to_stata(\"C:/Users/joyse/Dropbox (MIT)/Risky behavior/data/normalized_schools.dta\", write_index=False, version=118)"
   ]
  },
  {
   "cell_type": "code",
   "execution_count": null,
   "metadata": {},
   "outputs": [],
   "source": []
  }
 ],
 "metadata": {
  "kernelspec": {
   "display_name": "Python 3",
   "language": "python",
   "name": "python3"
  },
  "language_info": {
   "codemirror_mode": {
    "name": "ipython",
    "version": 3
   },
   "file_extension": ".py",
   "mimetype": "text/x-python",
   "name": "python",
   "nbconvert_exporter": "python",
   "pygments_lexer": "ipython3",
   "version": "3.8.3"
  }
 },
 "nbformat": 4,
 "nbformat_minor": 4
}
